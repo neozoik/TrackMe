{
 "cells": [
  {
   "cell_type": "code",
   "execution_count": 29,
   "metadata": {
    "collapsed": true
   },
   "outputs": [],
   "source": [
    "import cv2\n",
    "import numpy as np\n",
    "from imutils.object_detection import non_max_suppression"
   ]
  },
  {
   "cell_type": "code",
   "execution_count": 17,
   "metadata": {
    "collapsed": true
   },
   "outputs": [],
   "source": [
    "hog = cv2.HOGDescriptor()\n",
    "hog.setSVMDetector(cv2.HOGDescriptor_getDefaultPeopleDetector())"
   ]
  },
  {
   "cell_type": "code",
   "execution_count": 23,
   "metadata": {
    "collapsed": true
   },
   "outputs": [],
   "source": [
    "image = cv2.imread('../data/03.jpg')"
   ]
  },
  {
   "cell_type": "code",
   "execution_count": 24,
   "metadata": {
    "collapsed": true
   },
   "outputs": [],
   "source": [
    "(rects, weights) = hog.detectMultiScale(image, winStride=(4, 4),padding=(8, 8), scale=1.05)"
   ]
  },
  {
   "cell_type": "code",
   "execution_count": 25,
   "metadata": {
    "collapsed": false,
    "scrolled": true
   },
   "outputs": [
    {
     "name": "stdout",
     "output_type": "stream",
     "text": [
      "[[112  75 175 350]\n",
      " [370 108 178 356]\n",
      " [448  97 172 344]\n",
      " [-15 121 165 329]\n",
      " [286 122 170 340]\n",
      " [624 118 104 208]] [[ 1.07447296]\n",
      " [ 1.49554737]\n",
      " [ 0.71027926]\n",
      " [ 0.75870468]\n",
      " [ 0.19629458]\n",
      " [ 0.32214918]]\n"
     ]
    }
   ],
   "source": [
    "print rects,weights"
   ]
  },
  {
   "cell_type": "code",
   "execution_count": 30,
   "metadata": {
    "collapsed": false
   },
   "outputs": [],
   "source": [
    "orig = cv2.imread('../data/03.jpg')\n",
    "# draw the original bounding boxes\n",
    "#for (x, y, w, h) in rects:\n",
    "#   cv2.rectangle(orig, (x, y), (x + w, y + h), (0, 0, 255), 2)\n",
    "rects = np.array([[x, y, x + w, y + h] for (x, y, w, h) in rects])\n",
    "pick = non_max_suppression(rects, probs=None, overlapThresh=0.65)\n",
    "for (xA, yA, xB, yB) in pick:\n",
    "    cv2.rectangle(orig, (xA, yA), (xB, yB), (0, 255, 0), 2)"
   ]
  },
  {
   "cell_type": "code",
   "execution_count": 31,
   "metadata": {
    "collapsed": false
   },
   "outputs": [
    {
     "data": {
      "text/plain": [
       "True"
      ]
     },
     "execution_count": 31,
     "metadata": {},
     "output_type": "execute_result"
    }
   ],
   "source": [
    "cv2.imwrite('../data/03_annot.png',orig)"
   ]
  },
  {
   "cell_type": "code",
   "execution_count": 59,
   "metadata": {
    "collapsed": false
   },
   "outputs": [
    {
     "data": {
      "text/plain": [
       "cv2.CascadeClassifier"
      ]
     },
     "execution_count": 59,
     "metadata": {},
     "output_type": "execute_result"
    }
   ],
   "source": [
    "# face detection\n",
    "face_cascade = cv2.CascadeClassifier('../data/cascades.xml')\n",
    "type(face_cascade)"
   ]
  },
  {
   "cell_type": "code",
   "execution_count": 138,
   "metadata": {
    "collapsed": true
   },
   "outputs": [],
   "source": [
    "def initCascades():\n",
    "    cascades = []\n",
    "    for i in range(9):\n",
    "        cascades.append(cv2.CascadeClassifier('../data/0'+ str(i+1) + '.xml'))\n",
    "    return cascades"
   ]
  },
  {
   "cell_type": "code",
   "execution_count": 121,
   "metadata": {
    "collapsed": true
   },
   "outputs": [],
   "source": [
    "def applyCascades(cascades,gray,canvas):\n",
    "    for cascade in cascades:\n",
    "        rects = cascade.detectMultiScale(gray,1.3,5)\n",
    "        for (x,y,w,h) in rects:\n",
    "            cv2.rectangle(canvas,(x,y),(x+w,y+h),(255,0,0),2)\n",
    "    return canvas"
   ]
  },
  {
   "cell_type": "code",
   "execution_count": 125,
   "metadata": {
    "collapsed": true
   },
   "outputs": [],
   "source": [
    "def applyCascade(cascade_name,gray,canvas):\n",
    "    cascade = cv2.CascadeClassifier('../data/'+cascade_name)\n",
    "    rects = cascade.detectMultiScale(gray,1.3,5)\n",
    "    for (x,y,w,h) in rects:\n",
    "        cv2.rectangle(canvas,(x,y),(x+w,y+h),(255,0,0),2)\n",
    "    return canvas\n"
   ]
  },
  {
   "cell_type": "code",
   "execution_count": 149,
   "metadata": {
    "collapsed": false
   },
   "outputs": [],
   "source": [
    "gray = cv2.imread('../data/02.jpg',0)\n",
    "canvas = cv2.imread('../data/02.jpg')\n",
    "#gray = cv2.cvtColor(src, cv2.COLOR_BGR2GRAY)\n",
    "#faces = face_cascade.detectMultiScale(canvas, 1.3, 5)\n"
   ]
  },
  {
   "cell_type": "code",
   "execution_count": 143,
   "metadata": {
    "collapsed": false
   },
   "outputs": [],
   "source": [
    "cascades = initCascades()\n",
    "canvas = applyCascades(cascades,gray,canvas)"
   ]
  },
  {
   "cell_type": "code",
   "execution_count": 150,
   "metadata": {
    "collapsed": false
   },
   "outputs": [
    {
     "data": {
      "text/plain": [
       "True"
      ]
     },
     "execution_count": 150,
     "metadata": {},
     "output_type": "execute_result"
    }
   ],
   "source": [
    "cv2.imwrite('../data/02ann.png',applyCascade('pedestrian.xml',gray,canvas))"
   ]
  },
  {
   "cell_type": "code",
   "execution_count": 144,
   "metadata": {
    "collapsed": false
   },
   "outputs": [
    {
     "data": {
      "text/plain": [
       "True"
      ]
     },
     "execution_count": 144,
     "metadata": {},
     "output_type": "execute_result"
    }
   ],
   "source": [
    "cv2.imwrite('../data/03_annot.png',canvas)"
   ]
  },
  {
   "cell_type": "code",
   "execution_count": 151,
   "metadata": {
    "collapsed": true
   },
   "outputs": [],
   "source": [
    "im = cv2.imread('../data/02.jpg')\n",
    "imhsv = cv2.cvtColor(im,cv2.COLOR_BGR2HSV)"
   ]
  },
  {
   "cell_type": "code",
   "execution_count": 155,
   "metadata": {
    "collapsed": false
   },
   "outputs": [
    {
     "data": {
      "text/plain": [
       "array([[154,  66, 155],\n",
       "       [154,  66, 154],\n",
       "       [154,  66, 155],\n",
       "       ..., \n",
       "       [154,  50, 167],\n",
       "       [154,  50, 168],\n",
       "       [154,  50, 168]], dtype=uint8)"
      ]
     },
     "execution_count": 155,
     "metadata": {},
     "output_type": "execute_result"
    }
   ],
   "source": [
    "imhsv[:][:][2]"
   ]
  },
  {
   "cell_type": "code",
   "execution_count": 156,
   "metadata": {
    "collapsed": false
   },
   "outputs": [
    {
     "data": {
      "text/plain": [
       "True"
      ]
     },
     "execution_count": 156,
     "metadata": {},
     "output_type": "execute_result"
    }
   ],
   "source": [
    "cv2.imwrite('../data/hsv.png',imhsv)"
   ]
  },
  {
   "cell_type": "code",
   "execution_count": 161,
   "metadata": {
    "collapsed": false
   },
   "outputs": [
    {
     "data": {
      "text/plain": [
       "True"
      ]
     },
     "execution_count": 161,
     "metadata": {},
     "output_type": "execute_result"
    }
   ],
   "source": [
    "imhsv[:,:,2] = np.median(imhsv[:,:,2])\n",
    "cv2.imwrite('../data/hsv_.png',imhsv)"
   ]
  },
  {
   "cell_type": "code",
   "execution_count": 162,
   "metadata": {
    "collapsed": false
   },
   "outputs": [
    {
     "data": {
      "text/plain": [
       "True"
      ]
     },
     "execution_count": 162,
     "metadata": {},
     "output_type": "execute_result"
    }
   ],
   "source": [
    "imrgb = cv2.cvtColor(imhsv,cv2.COLOR_HSV2BGR)\n",
    "cv2.imwrite('../data/hsv2bgr.png',imrgb)"
   ]
  }
 ],
 "metadata": {
  "kernelspec": {
   "display_name": "Python 2",
   "language": "python",
   "name": "python2"
  },
  "language_info": {
   "codemirror_mode": {
    "name": "ipython",
    "version": 2
   },
   "file_extension": ".py",
   "mimetype": "text/x-python",
   "name": "python",
   "nbconvert_exporter": "python",
   "pygments_lexer": "ipython2",
   "version": "2.7.6"
  }
 },
 "nbformat": 4,
 "nbformat_minor": 0
}
